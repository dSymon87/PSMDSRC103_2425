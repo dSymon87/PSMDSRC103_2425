{
 "cells": [
  {
   "cell_type": "markdown",
   "id": "1510255e-49e9-444f-8961-125e0201896b",
   "metadata": {},
   "source": [
    "### 1. Create a function that would accept two inputs: a sentence(string), and a listcontaining bad words that the user would like to censor but not remove. The function should return the newly filtered sentence wherein the bad words are replaced with asterisks equal to the length of the censored word."
   ]
  },
  {
   "cell_type": "code",
   "execution_count": 1,
   "id": "9162fdc6-ccd0-4f1e-acf4-53e6f70a6f95",
   "metadata": {
    "tags": []
   },
   "outputs": [],
   "source": [
    "# CREATE THE FUNCTION\n",
    "#Function that will accept 2 inputs, which is the sentence and the bad_words list created\n",
    "\n",
    "def censor_func(sentence, bad_words):\n",
    "    for word in bad_words:\n",
    "      replacement = '*' * len(word)  #this calculate the length of the asterisk for replacement\n",
    "      sentence = sentence.replace(word, replacement) # this is search the sentence with matching word from the bad_words and replacec it\n",
    "    return(sentence)"
   ]
  },
  {
   "cell_type": "code",
   "execution_count": 2,
   "id": "90a68fa9-fd57-4bf8-8098-c2dd3a86dd4c",
   "metadata": {
    "tags": []
   },
   "outputs": [
    {
     "name": "stdout",
     "output_type": "stream",
     "text": [
      "an ******* with his ***** friend fights with a ****py robot, they are ******* mother ****er son of a *****\n"
     ]
    }
   ],
   "source": [
    "# TESTING THE FUNCTION\n",
    "# Create a list of bad words that function can look into\n",
    "\n",
    "bad_words = ['asshole', 'bitch','crap','dumbass','fuck','holy shit','mother fucker','son of a bitch']\n",
    "\n",
    "sentence = \"an asshole with his bitch friend fights with a crappy robot, they are dumbass mother fucker son of a bitch\"\n",
    "\n",
    "print(censor_func(sentence, bad_words))\n",
    "\n",
    "# looping on the string returns invidual letter/character.\n",
    "# looping on the list start index 0, ex. fuck exceute first. when 'mother fucker' execute it cannot see it."
   ]
  },
  {
   "cell_type": "markdown",
   "id": "aed8469f-4ee3-49fb-a4cb-196241a76ebd",
   "metadata": {},
   "source": [
    "### 2. Create a quadratic equation solver module that would write the inputs of the user and the corresponding output into text files."
   ]
  },
  {
   "cell_type": "code",
   "execution_count": 20,
   "id": "819340db-5e84-4bd2-91ec-a04af6c87509",
   "metadata": {
    "tags": []
   },
   "outputs": [],
   "source": [
    "import math\n",
    "\n",
    "def quadratic_formula(a, b, c):\n",
    "    if b**2 - (4*a*c) < 0:\n",
    "        x1 = (complex(-b, math.floor(math.sqrt(abs(b**2-(4*a*c))))))/2*a \n",
    "        x2 = (complex(-b, -1*math.floor(math.sqrt(abs(b**2-(4*a*c))))))/2*a\n",
    "        \n",
    "    else:\n",
    "        x1 = (-b+math.sqrt(b**2 - (4*a*c)))/(2*a)\n",
    "        x2 = (-b-math.sqrt(b**2 - (4*a*c)))/(2*a)\n",
    "        \n",
    "\n",
    "    file = open(\"quadratic_eq_result.txt\", 'w') # builtin function to open file\n",
    "    file.write(f\"variables enter is : {a, b, c}!\\n\") # builtin function write text\n",
    "    file.write(f\"Results: {x1},{x2}\")\n",
    "    file.close()\n",
    "    \n",
    "    return x1, x2\n",
    "\n",
    "#this program created a text file and write text inside."
   ]
  },
  {
   "cell_type": "code",
   "execution_count": 21,
   "id": "f3b99cbe-486f-4ef7-a07e-fca7b6dc222c",
   "metadata": {
    "tags": []
   },
   "outputs": [
    {
     "data": {
      "text/plain": [
       "((-1+1j), (-1-1j))"
      ]
     },
     "execution_count": 21,
     "metadata": {},
     "output_type": "execute_result"
    }
   ],
   "source": [
    "quadratic_formula(1,2,3)"
   ]
  },
  {
   "cell_type": "code",
   "execution_count": 19,
   "id": "45eab3e2-1691-4aae-946c-82ee2fd9ff0b",
   "metadata": {
    "tags": []
   },
   "outputs": [
    {
     "data": {
      "text/plain": [
       "((-1+1.4142135623730951j), (-1-1.4142135623730951j))"
      ]
     },
     "execution_count": 19,
     "metadata": {},
     "output_type": "execute_result"
    }
   ],
   "source": [
    "import math\n",
    "\n",
    "def quadratic_formula(a, b, c):\n",
    "    if b**2 - (4*a*c) < 0:\n",
    "        # Compute complex roots\n",
    "        discriminant = abs(b**2 - 4*a*c)\n",
    "        sqrt_disc = math.sqrt(discriminant)\n",
    "        x1 = complex(-b / (2*a), sqrt_disc / (2*a))\n",
    "        x2 = complex(-b / (2*a), -sqrt_disc / (2*a))\n",
    "    else:\n",
    "        # Compute real roots\n",
    "        x1 = (-b + math.sqrt(b**2 - 4*a*c)) / (2*a)\n",
    "        x2 = (-b - math.sqrt(b**2 - 4*a*c)) / (2*a)\n",
    "    \n",
    "    # Write to file in a single line\n",
    "    file = open(\"quadresult.txt\", 'w')  # Open file in write mode\n",
    "    file.write(f\"Roots of the quadratic equation are:\\nx1 = {x1}\\nx2 = {x2}\\n\")\n",
    "    file.close()  # Ensure the file is closed\n",
    "\n",
    "    return x1, x2\n",
    "\n",
    "quadratic_formula(1, 2, 3)"
   ]
  },
  {
   "cell_type": "markdown",
   "id": "85d14304-6f78-440a-8df1-7464530c3184",
   "metadata": {},
   "source": [
    "Why do built-in functions exist?\n",
    " - this is to perform the simple task, it is a proggraming tools that is default in python.\n",
    " - they are already fine tune for efficiency.\n",
    " - ex. when building a car, it will be very difficult to re-invent all the tools needed to build one.\n",
    "\n",
    "What are the advantages/disadvantages of placing code inside functions vs. sequential codes?\n",
    " - because we can used it again and again. rather than copying and re-running code again.\n",
    " - also can make code alot cleaner, and easy to under stand when grouped in functions\n",
    " - the disadvantage is when there is alot of function. it will be very difficult to understand and debug\n",
    " - sequential code is simple to do, unlike functions needs  some tinkering. usefull when your task is simple and no need to write the function. but the disadvantage of this is when there is repetition use of the code. you paste it over and over again\n",
    "\n",
    "What is the different between a function and a module?\n",
    " - a function does a single task, while the module consist of many function that serves a common purpose.\n",
    " - ex. function is like a hammer, and the module is a toolbox consist of many tools.\n",
    "\n",
    "Discuss the difference between a module and a package.\n",
    " - module is a file containing function or variables needed for the same purpose, while the package consist of many modules. \n",
    " - ex. package is the workshop which consists of toolbox, toolchest, machines and etc..\n"
   ]
  }
 ],
 "metadata": {
  "kernelspec": {
   "display_name": "Python 3 (ipykernel)",
   "language": "python",
   "name": "python3"
  },
  "language_info": {
   "codemirror_mode": {
    "name": "ipython",
    "version": 3
   },
   "file_extension": ".py",
   "mimetype": "text/x-python",
   "name": "python",
   "nbconvert_exporter": "python",
   "pygments_lexer": "ipython3",
   "version": "3.11.4"
  }
 },
 "nbformat": 4,
 "nbformat_minor": 5
}
