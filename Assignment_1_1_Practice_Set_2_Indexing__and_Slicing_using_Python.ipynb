{
  "nbformat": 4,
  "nbformat_minor": 0,
  "metadata": {
    "colab": {
      "provenance": [],
      "authorship_tag": "ABX9TyP3l0rNyNmlq+OhfL01rtFQ",
      "include_colab_link": true
    },
    "kernelspec": {
      "name": "python3",
      "display_name": "Python 3"
    },
    "language_info": {
      "name": "python"
    }
  },
  "cells": [
    {
      "cell_type": "markdown",
      "metadata": {
        "id": "view-in-github",
        "colab_type": "text"
      },
      "source": [
        "<a href=\"https://colab.research.google.com/github/dSymon87/PSMDSRC103_2425/blob/main/Assignment_1_1_Practice_Set_2_Indexing__and_Slicing_using_Python.ipynb\" target=\"_parent\"><img src=\"https://colab.research.google.com/assets/colab-badge.svg\" alt=\"Open In Colab\"/></a>"
      ]
    },
    {
      "cell_type": "markdown",
      "source": [
        "## Assignment 1.1 Practice Set 2, Indexing and Slicing using Python\n"
      ],
      "metadata": {
        "id": "2fxke2LYa-40"
      }
    },
    {
      "cell_type": "markdown",
      "source": [
        "### 1. Type the expressions below, and try to explain what's happening in each case."
      ],
      "metadata": {
        "id": "OGY-bWmHavzi"
      }
    },
    {
      "cell_type": "code",
      "source": [
        "2 ** 16 # it is the based raise exponent, \"**\"\" base multiply itself by exponent times\n",
        "\n",
        "2 / 5, 2 / 5.0 #float division returns the quotients and different from floor \"//\" returns closest integer\n",
        "\n",
        "\"spam\" + \"eggs\" # concantenating strings, added in series\n",
        "\n",
        "S = \"ham\" # assigning  value \"ham\" to S\n",
        "\n",
        "\"eggs \" + S #concantenating string to the variable S\n",
        "\n",
        "S*5 #multiplication of string\n",
        "\n",
        "S[:0] #slicing \"ham\" with [:0], it takes slice of the string from start and before start of the string, so output became empty string \"\".\n",
        "\n",
        "\"green %s and %s\" % (\"eggs\", S) #python string formating %(\"eggs\", S) S=ham, replaces the value of %s in the original string.\n"
      ],
      "metadata": {
        "colab": {
          "base_uri": "https://localhost:8080/",
          "height": 36
        },
        "id": "KmCZMfA0b2q5",
        "outputId": "f9c06dbc-3b2c-4025-ea59-5568d43e2436"
      },
      "execution_count": 19,
      "outputs": [
        {
          "output_type": "execute_result",
          "data": {
            "text/plain": [
              "'green eggs and ham'"
            ],
            "application/vnd.google.colaboratory.intrinsic+json": {
              "type": "string"
            }
          },
          "metadata": {},
          "execution_count": 19
        }
      ]
    },
    {
      "cell_type": "code",
      "source": [
        "('x',) [0] #this is a single element tuple, folowed by indexing[0], returns the first index of the string. if \", does not exist it will became string.\n",
        "\n",
        "('x', 'y') [1] #this is a 2 element tuple, folowed by indexing, returns the first index of the string."
      ],
      "metadata": {
        "colab": {
          "base_uri": "https://localhost:8080/",
          "height": 36
        },
        "id": "H-oacgYMeG_I",
        "outputId": "a8880133-c371-4786-d28a-f4b5f0330e3c"
      },
      "execution_count": 26,
      "outputs": [
        {
          "output_type": "execute_result",
          "data": {
            "text/plain": [
              "'x'"
            ],
            "application/vnd.google.colaboratory.intrinsic+json": {
              "type": "string"
            }
          },
          "metadata": {},
          "execution_count": 26
        }
      ]
    },
    {
      "cell_type": "code",
      "source": [
        "L = [1,2,3] + [4,5,6] # Concantonate List result [1, 2, 3, 4, 5, 6]\n",
        "\n",
        "L # calling variable L which returns all the listed items\n",
        "L[:] #empty slice, returns all the the listed items, goes to preset value start and end of the list\n",
        "L[:0] # same case with the previous example, with [:0], it takes slice of the string from start and before start of the string, so output became empty string \"\".\n",
        "L[-2] # get the value of 2nd to the last value of the list. in this case is 5\n",
        "L[-2:] #slice the list from the start values -2 which is 2nd to the last value, and with the end value of blank goes to the preset value which is the end.\n",
        "\n",
        "([1,2,3] + [4,5,6]) [2:4] # concantonate list ([1,2,3] + [4,5,6]), and slice the value [2:4] exclusive,\n",
        "\n",
        "[L[2], L[3]] #index the list [2] returns 3 and  [3] returns 4, count based on zero index of python\n",
        "\n",
        "L.reverse(); L #built-in function reverse the arrangement of list, L is to call the list\n",
        "\n",
        "L.sort(); L #Built-in function sort the arrangement of the list, L is to call the list again\n",
        "\n",
        "L.index(4){'a':1, 'b':2} ['b'] #SyntaxError: invalid syntax, its combining list and dictionaries.\n",
        "L.index(4),{'a':1, 'b':2} ['b'] # if we seperated it, results is (3,2) where 3 is the value of the 4 index in the list and 2 is the value of b from the dictionary.\n"
      ],
      "metadata": {
        "colab": {
          "base_uri": "https://localhost:8080/"
        },
        "id": "_c5lZ0OTjVdS",
        "outputId": "bcacba6c-8890-459d-d25f-dd0c7a570b36"
      },
      "execution_count": 4,
      "outputs": [
        {
          "output_type": "execute_result",
          "data": {
            "text/plain": [
              "(3, 2)"
            ]
          },
          "metadata": {},
          "execution_count": 4
        }
      ]
    },
    {
      "cell_type": "code",
      "source": [
        "D = {'x':1, 'y':2, 'z':3}  # it is 3 value dictionary assign to the Value D\n",
        "print(D)\n",
        "\n",
        "D['w'] = 0 #added key \"w\" wtih the value of 0 to the dictionary D\n",
        "print(D)\n",
        "\n",
        "D['x'] + D['w'] #calling 'x' and 'w' with the value 1 and 0, resulting in 1\n",
        "\n",
        "\n",
        "D[(1,2,3)] = 4 #asign a key list to the key with value of 4\n",
        "print(D)\n",
        "\n",
        "D.keys() #get the keys from the dictionary D\n",
        "D.values() #get the value from th dictionar D\n",
        "D.has_key((1,2,3)) [[]], #AttributeError: 'dict' object has no attribute 'has_key', remove from python 3.++,\n",
        "\n",
        "\n",
        "[\"\", [], {}, None] #blank string, list, dictionaries and None"
      ],
      "metadata": {
        "colab": {
          "base_uri": "https://localhost:8080/"
        },
        "id": "f37BqCREjbGt",
        "outputId": "b11637ca-59b7-46b0-b72a-27890655ac1e"
      },
      "execution_count": 26,
      "outputs": [
        {
          "output_type": "execute_result",
          "data": {
            "text/plain": [
              "['', [], {}, None]"
            ]
          },
          "metadata": {},
          "execution_count": 26
        }
      ]
    },
    {
      "cell_type": "markdown",
      "source": [
        "### 2. Define a list named L that contains four strings or numbers. Experiment with the following boundary cases."
      ],
      "metadata": {
        "id": "maNMsPYG7QiL"
      }
    },
    {
      "cell_type": "code",
      "source": [
        "L = [\"M\", \"A\", \"R\", \"K\"]\n",
        "print(L)\n",
        "\n",
        "# Attempt to index out of bounds. (Ex. L[66])\n",
        "L[66] # result in index error because it is out of range.\n",
        "len(L) # it is only 4\n",
        "\n",
        "#Attempt to slice out of bounds. (Ex. L[-9999:100])\n",
        "L[-9999:100] # not out of bound because slicing from -9999 is the last slice and end with 100. so it captures all the list\n",
        "L[5:7] # out of bound slicing will result in blank list\n",
        "\n",
        "#Try extracting a sequence in reverse. Make the lower bound higher than the upper bound (Ex. L[3:1]). Attempt to perform L[3:1] = ['?']. Explain the output.\n",
        "L[3:1] #return blank value [], forward slice cannot find valid range to slice, should have start and end, it is like window looking in the list."
      ],
      "metadata": {
        "colab": {
          "base_uri": "https://localhost:8080/"
        },
        "id": "Nl9y4V0Z7Yex",
        "outputId": "b0b915a2-c86d-448a-cd26-0b6e2015906d"
      },
      "execution_count": 41,
      "outputs": [
        {
          "output_type": "execute_result",
          "data": {
            "text/plain": [
              "[]"
            ]
          },
          "metadata": {},
          "execution_count": 41
        }
      ]
    },
    {
      "cell_type": "markdown",
      "source": [
        "### 3. Define another list L, perform the following and use comments to explain:"
      ],
      "metadata": {
        "id": "Ajtnyg6d9vGl"
      }
    },
    {
      "cell_type": "code",
      "source": [
        "L = [1, 2, 3, 4, 5, 6,]\n",
        "print(L)\n",
        "\n",
        "# Assign a list as one of its elements.\n",
        "L[5] = L # assing list to 5th element of the list resulting in list within the list\n",
        "print(L)\n",
        "\n",
        "# Assign an empty list to a range.\n",
        "L[0:1] = [] #the value of the list is deleted, useful for deleting range in the list\n",
        "print(L)\n",
        "\n",
        "\n",
        "# Delete an item in your list using the del statement.\n",
        "del L[2] # deleted 3rd element in the updated list, which is 4\n",
        "print(L)\n",
        "\n",
        "# Delete an entire range from your list.\n",
        "L[0:len(L)] = [] # deleted entire range start from 0index to the last which i used length of the list L.\n",
        "print(L)\n",
        "\n",
        "# Assign a non-sequence value to a slice.\n",
        "L[0:5]=\"M\" #cannot assign non sequence value of the slice since it replaces the original sequence, if many \"M\" in the list it cannot be iterated over in a for loop\n",
        "print(L)"
      ],
      "metadata": {
        "colab": {
          "base_uri": "https://localhost:8080/"
        },
        "id": "RuFIlyjK90TF",
        "outputId": "9da1ae2b-d078-4b52-9168-a49d33c3e444"
      },
      "execution_count": 59,
      "outputs": [
        {
          "output_type": "stream",
          "name": "stdout",
          "text": [
            "['M']\n"
          ]
        }
      ]
    },
    {
      "cell_type": "markdown",
      "source": [
        "### 4. Create a dictionary named D with three entries, for keys a, b, and c"
      ],
      "metadata": {
        "id": "lRc0B2tIE-wT"
      }
    },
    {
      "cell_type": "code",
      "source": [
        "D = {'a':1, 'b':2, 'c':3}\n",
        "print(D)\n",
        "\n",
        "#What happens if you try to index a nonexistent key d (D[‘d’])?\n",
        "D['d'] # result in KeyError: 'd', python search for d key in the dictionary which is non-existing\n",
        "\n",
        "#What does python do if you try to assign to a nonexistent key?\n",
        "D['d'] =1 # it is added to the dictionary when you add to a non-existing key, and replace it when it is existing\n",
        "print(D)\n",
        "\n",
        "#Compare this to out of bounds assignments.\n",
        "# - out of bound assignment in the list will result to blank result, while the dictionary does not apply to this becauase it should have a key assign."
      ],
      "metadata": {
        "colab": {
          "base_uri": "https://localhost:8080/"
        },
        "id": "hakY2V3jFIo3",
        "outputId": "bc657a28-5644-431f-a48e-971cfe8552a7"
      },
      "execution_count": 64,
      "outputs": [
        {
          "output_type": "stream",
          "name": "stdout",
          "text": [
            "{'a': {...}, 'b': 2, 'c': 3, 'd': 1}\n"
          ]
        }
      ]
    },
    {
      "cell_type": "markdown",
      "source": [
        "### 5. Run tests to answer the following questions:"
      ],
      "metadata": {
        "id": "kkZGhDCWHLbX"
      }
    },
    {
      "cell_type": "code",
      "source": [
        "# What happens when you try to use the + operator on different/mixed types?\n",
        "\n",
        "[1,2,3] + [4,5,6]         # list   - it concatenate the list to other list\n",
        "5+5                       # number - it adds the number to the number\n",
        "(1,2,3) + (3,4,5)         # tuple   - it add tuple to other tuple.\n",
        "'Mark'+'Jasmin'           # string - concatenate string to other string\n",
        "{'a':1, 'b':2} + {'c':3}  # TypeError: unsupported operand type(s) for +: 'dict' and 'dict'\n",
        "(1,2,3)+'Jasmin'          # TypeError: can only concatenate tuple (not \"str\") to tuple\n",
        "(1,2,3) + [4,5,6]         # TypeError: can only concatenate tuple (not \"list\") to tuple\n",
        "[1,2,3] + \"Mark\"          # TypeError: can only concatenate list (not \"str\") to list\n",
        "\n",
        "\n",
        "#Does + work if one of the operands is a dictionary?\n",
        "{'a':1, 'b':2} + {'c':3}  # TypeError: unsupported operand type(s) for +: 'dict' and 'dict'\n",
        "{'a':1, 'b':2} + [4,5,6]  # TypeError: unsupported operand type(s) for +: 'dict' and 'list'\n",
        "{'a':1, 'b':2} + (3,4,5)  # TypeError: unsupported operand type(s) for +: 'dict' and 'tuple'\n",
        "\n",
        "\n",
        "#Try list.append() (use an actual list you created). Does the append() method work for both lists and strings?\n",
        "L = [1,2,3,4,5,6] #yes it work, list can be string, number or list inside list\n",
        "L.append(\"MarK\")\n",
        "L.append(L)\n",
        "print(L)\n",
        "\n",
        "\n",
        "#Try concatenating (+) two lists or strings, what happens?\n",
        "[1,2,3] + [4,5,6]    #this works for concatenating\n",
        "'Mark'+'Jasmin'     #this works for concatenating\n",
        "[1,2,3] + \"Mark\"    # TypeError: can only concatenate list (not \"str\") to list\n"
      ],
      "metadata": {
        "colab": {
          "base_uri": "https://localhost:8080/",
          "height": 220
        },
        "id": "CdnxqLIoHRZM",
        "outputId": "3b6134c8-3e3b-4f27-aa7c-daf5ec04a0c1"
      },
      "execution_count": 112,
      "outputs": [
        {
          "output_type": "error",
          "ename": "TypeError",
          "evalue": "unsupported operand type(s) for +: 'dict' and 'dict'",
          "traceback": [
            "\u001b[0;31m---------------------------------------------------------------------------\u001b[0m",
            "\u001b[0;31mTypeError\u001b[0m                                 Traceback (most recent call last)",
            "\u001b[0;32m<ipython-input-112-3456642f81e0>\u001b[0m in \u001b[0;36m<cell line: 7>\u001b[0;34m()\u001b[0m\n\u001b[1;32m      5\u001b[0m \u001b[0;34m(\u001b[0m\u001b[0;36m1\u001b[0m\u001b[0;34m,\u001b[0m\u001b[0;36m2\u001b[0m\u001b[0;34m,\u001b[0m\u001b[0;36m3\u001b[0m\u001b[0;34m)\u001b[0m \u001b[0;34m+\u001b[0m \u001b[0;34m(\u001b[0m\u001b[0;36m3\u001b[0m\u001b[0;34m,\u001b[0m\u001b[0;36m4\u001b[0m\u001b[0;34m,\u001b[0m\u001b[0;36m5\u001b[0m\u001b[0;34m)\u001b[0m         \u001b[0;31m# tuple   - it add tuple to other tuple.\u001b[0m\u001b[0;34m\u001b[0m\u001b[0;34m\u001b[0m\u001b[0m\n\u001b[1;32m      6\u001b[0m \u001b[0;34m'Mark'\u001b[0m\u001b[0;34m+\u001b[0m\u001b[0;34m'Jasmin'\u001b[0m           \u001b[0;31m# string - concatenate string to other string\u001b[0m\u001b[0;34m\u001b[0m\u001b[0;34m\u001b[0m\u001b[0m\n\u001b[0;32m----> 7\u001b[0;31m \u001b[0;34m{\u001b[0m\u001b[0;34m'a'\u001b[0m\u001b[0;34m:\u001b[0m\u001b[0;36m1\u001b[0m\u001b[0;34m,\u001b[0m \u001b[0;34m'b'\u001b[0m\u001b[0;34m:\u001b[0m\u001b[0;36m2\u001b[0m\u001b[0;34m}\u001b[0m \u001b[0;34m+\u001b[0m \u001b[0;34m{\u001b[0m\u001b[0;34m'c'\u001b[0m\u001b[0;34m:\u001b[0m\u001b[0;36m3\u001b[0m\u001b[0;34m}\u001b[0m  \u001b[0;31m# TypeError: unsupported operand type(s) for +: 'dict' and 'dict'\u001b[0m\u001b[0;34m\u001b[0m\u001b[0;34m\u001b[0m\u001b[0m\n\u001b[0m\u001b[1;32m      8\u001b[0m \u001b[0;34m(\u001b[0m\u001b[0;36m1\u001b[0m\u001b[0;34m,\u001b[0m\u001b[0;36m2\u001b[0m\u001b[0;34m,\u001b[0m\u001b[0;36m3\u001b[0m\u001b[0;34m)\u001b[0m\u001b[0;34m+\u001b[0m\u001b[0;34m'Jasmin'\u001b[0m          \u001b[0;31m# TypeError: can only concatenate tuple (not \"str\") to tuple\u001b[0m\u001b[0;34m\u001b[0m\u001b[0;34m\u001b[0m\u001b[0m\n\u001b[1;32m      9\u001b[0m \u001b[0;34m(\u001b[0m\u001b[0;36m1\u001b[0m\u001b[0;34m,\u001b[0m\u001b[0;36m2\u001b[0m\u001b[0;34m,\u001b[0m\u001b[0;36m3\u001b[0m\u001b[0;34m)\u001b[0m \u001b[0;34m+\u001b[0m \u001b[0;34m[\u001b[0m\u001b[0;36m4\u001b[0m\u001b[0;34m,\u001b[0m\u001b[0;36m5\u001b[0m\u001b[0;34m,\u001b[0m\u001b[0;36m6\u001b[0m\u001b[0;34m]\u001b[0m         \u001b[0;31m# TypeError: can only concatenate tuple (not \"list\") to tuple\u001b[0m\u001b[0;34m\u001b[0m\u001b[0;34m\u001b[0m\u001b[0m\n",
            "\u001b[0;31mTypeError\u001b[0m: unsupported operand type(s) for +: 'dict' and 'dict'"
          ]
        }
      ]
    },
    {
      "cell_type": "markdown",
      "source": [
        "### 6. Define a string S of four characters. Then type the following expression: S[0] [0] [0] [0]. Explain what is happening."
      ],
      "metadata": {
        "id": "eplUDGo4HYc5"
      }
    },
    {
      "cell_type": "code",
      "source": [
        "S =\"MARK\"\n",
        "S[0] [0] [0] [0] # result is M as it search only the first index [0], next [0] search inside the first index \"M\". string is single dimension it results only in the first character result\n",
        "\n",
        "# Try\n",
        "L =[1,2,3]\n",
        "L1 = [4,5,6]\n",
        "L2 = [7,8,9]\n",
        "L[0] = L1\n",
        "L1[0] = L2\n",
        "\n",
        "print(L)\n",
        "print(L[0][0][2]) #this result will be 9, cause it search is from the list with in the list whithin the list"
      ],
      "metadata": {
        "colab": {
          "base_uri": "https://localhost:8080/"
        },
        "id": "CdrmXOjyHyEr",
        "outputId": "f928abf2-24f0-4f94-957f-6892b04288e9"
      },
      "execution_count": 95,
      "outputs": [
        {
          "output_type": "stream",
          "name": "stdout",
          "text": [
            "9\n"
          ]
        }
      ]
    },
    {
      "cell_type": "markdown",
      "source": [
        "### 7. Define a string S of 4 characters again: S = “spam”. Write an assignment that changes the string to “slam”, using only slicing and concatenation. Does it work? Try index assignment."
      ],
      "metadata": {
        "id": "XSY58jWpH0T_"
      }
    },
    {
      "cell_type": "code",
      "source": [
        "# this is will result in TypeError: 'str' object does not support item assignment\n",
        "S = \"spam\"\n",
        "S[1] = \"l\"\n",
        "print(S)\n",
        "\n",
        "# instead Slice \"S\" add 'l' and slice \"am\"\n",
        "S = \"spam\"\n",
        "S = S[0] + \"l\" + S[2:4]\n",
        "print(S)"
      ],
      "metadata": {
        "colab": {
          "base_uri": "https://localhost:8080/"
        },
        "id": "3gqYuYzUH27j",
        "outputId": "41a69efc-3e2c-4b38-9791-c3ab345ce684"
      },
      "execution_count": 111,
      "outputs": [
        {
          "output_type": "stream",
          "name": "stdout",
          "text": [
            "slam\n"
          ]
        }
      ]
    }
  ]
}