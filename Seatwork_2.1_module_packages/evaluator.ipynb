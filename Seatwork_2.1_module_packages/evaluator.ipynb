{
 "cells": [
  {
   "cell_type": "code",
   "execution_count": 4,
   "id": "4f3d4ff3-faa6-4a3d-8564-8e855f1a97d1",
   "metadata": {
    "tags": []
   },
   "outputs": [
    {
     "name": "stdout",
     "output_type": "stream",
     "text": [
      "Propositional Logic Evaluator for Discrete Math\n"
     ]
    },
    {
     "name": "stdin",
     "output_type": "stream",
     "text": [
      "How many variables? 3\n",
      "Enter the propositional logic expression:  3\n"
     ]
    },
    {
     "name": "stdout",
     "output_type": "stream",
     "text": [
      "A B C f\n",
      "0 0 0 3\n",
      "0 0 1 3\n",
      "0 1 0 3\n",
      "0 1 1 3\n",
      "1 0 0 3\n",
      "1 0 1 3\n",
      "1 1 0 3\n",
      "1 1 1 3\n"
     ]
    }
   ],
   "source": [
    "# Propositional logic evaluator for discrete math for 2-3 variables\n",
    "print(\"Propositional Logic Evaluator for Discrete Math\")  \n",
    "variables = int(input(\"How many variables?\"))  \n",
    "total_combinations = 2 ** variables\n",
    "\n",
    "combinations_list = []  \n",
    "# Generate the combinations  \n",
    "for i in range(total_combinations):\n",
    "    bin_equivalent = bin(i)[2:]\n",
    "    while len(bin_equivalent)<variables:\n",
    "        bin_equivalent = \"0\"+bin_equivalent\n",
    "    combinations_list.append(tuple(int(val) for val in bin_equivalent))\n",
    "    # This will generate a list with values [(0,0),(0,1), (1,0), (1,1)]  \n",
    "    # For two variables \n",
    "    \n",
    "    \n",
    "# Main Program  \n",
    "expression = input(\"Enter the propositional logic expression: \")\n",
    "\n",
    "\"\"\" Note:  Only the letters A, B, and C are allowed to be used.  \n",
    "    A sample input would be: not(A and B) or (A and C). \n",
    "    All input must be small cases.\"\"\"  \n",
    "\n",
    "\n",
    "if variables == 2:  \n",
    "    print(\"A B f\")  \n",
    "    for A,B in combinations_list:  \n",
    "        evaluated_expression = eval(expression)  \n",
    "        print(A, B, evaluated_expression)  \n",
    "\n",
    "        \n",
    "elif variables == 3:\n",
    "    print(\"A B C f\")  \n",
    "    for A, B, C in combinations_list:  \n",
    "        evaluated_expression = eval(expression) \n",
    "        print(A, B, C, evaluated_expression) \n",
    "        \n"
   ]
  },
  {
   "cell_type": "code",
   "execution_count": null,
   "id": "23e4c50e-8dc1-4ef3-a796-fbe74f2eccb3",
   "metadata": {},
   "outputs": [],
   "source": []
  },
  {
   "cell_type": "code",
   "execution_count": null,
   "id": "68611299-0fef-4b1a-9a8e-d1c6d0a0e42b",
   "metadata": {},
   "outputs": [],
   "source": []
  }
 ],
 "metadata": {
  "kernelspec": {
   "display_name": "Python 3 (ipykernel)",
   "language": "python",
   "name": "python3"
  },
  "language_info": {
   "codemirror_mode": {
    "name": "ipython",
    "version": 3
   },
   "file_extension": ".py",
   "mimetype": "text/x-python",
   "name": "python",
   "nbconvert_exporter": "python",
   "pygments_lexer": "ipython3",
   "version": "3.11.4"
  }
 },
 "nbformat": 4,
 "nbformat_minor": 5
}
