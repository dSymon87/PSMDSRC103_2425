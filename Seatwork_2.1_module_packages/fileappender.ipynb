{
 "cells": [
  {
   "cell_type": "code",
   "execution_count": 1,
   "id": "522d30d4-a46b-416e-9ec4-56e4ed21d9b5",
   "metadata": {
    "tags": []
   },
   "outputs": [],
   "source": [
    "file = open(\"newfile2.txt\", \"a\")\n",
    "file.write(\"and also the programmer, of course.\")\n",
    "file.close()\n",
    "\n",
    "\n",
    "# this change the details inside the text.,\n"
   ]
  },
  {
   "cell_type": "code",
   "execution_count": null,
   "id": "38587f9a-4352-42c1-8a1b-ad2007ac5964",
   "metadata": {},
   "outputs": [],
   "source": []
  }
 ],
 "metadata": {
  "kernelspec": {
   "display_name": "Python 3 (ipykernel)",
   "language": "python",
   "name": "python3"
  },
  "language_info": {
   "codemirror_mode": {
    "name": "ipython",
    "version": 3
   },
   "file_extension": ".py",
   "mimetype": "text/x-python",
   "name": "python",
   "nbconvert_exporter": "python",
   "pygments_lexer": "ipython3",
   "version": "3.11.4"
  }
 },
 "nbformat": 4,
 "nbformat_minor": 5
}
