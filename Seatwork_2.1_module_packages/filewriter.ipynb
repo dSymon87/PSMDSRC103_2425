{
 "cells": [
  {
   "cell_type": "code",
   "execution_count": 9,
   "id": "832ca937-8c16-4a0d-ac13-d4f2d4e20422",
   "metadata": {
    "tags": []
   },
   "outputs": [],
   "source": [
    "name = \"Mark Symon Jasmin\" # display my name in the created txt file;\n",
    "file = open(\"newfile3.txt\", 'w') # builtin function to open file\n",
    "file.write(f\"Hello, {name}!\\n\") # builtin function write text\n",
    "file.write(\"Isn't this amazing?\\n\")\n",
    "file.write(\"that we can create and write on text files\\n\")\n",
    "file.write(\"using Python.\")\n",
    "file.close()\n",
    "\n",
    "#this program created a text file and write text inside."
   ]
  },
  {
   "cell_type": "code",
   "execution_count": null,
   "id": "22f98b5d-1c36-423e-8947-0ae485384188",
   "metadata": {},
   "outputs": [],
   "source": []
  },
  {
   "cell_type": "code",
   "execution_count": null,
   "id": "158cef12-06c8-4edc-8884-ecc9d1deeeec",
   "metadata": {},
   "outputs": [],
   "source": []
  }
 ],
 "metadata": {
  "kernelspec": {
   "display_name": "Python 3 (ipykernel)",
   "language": "python",
   "name": "python3"
  },
  "language_info": {
   "codemirror_mode": {
    "name": "ipython",
    "version": 3
   },
   "file_extension": ".py",
   "mimetype": "text/x-python",
   "name": "python",
   "nbconvert_exporter": "python",
   "pygments_lexer": "ipython3",
   "version": "3.11.4"
  }
 },
 "nbformat": 4,
 "nbformat_minor": 5
}
