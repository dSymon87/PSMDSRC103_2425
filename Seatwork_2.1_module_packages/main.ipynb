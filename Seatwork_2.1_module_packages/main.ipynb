{
 "cells": [
  {
   "cell_type": "code",
   "execution_count": 2,
   "id": "4c56572e-12f8-49cc-b94d-434bdfa652bd",
   "metadata": {
    "tags": []
   },
   "outputs": [
    {
     "name": "stdout",
     "output_type": "stream",
     "text": [
      "The current time is 07:54 PM\n"
     ]
    }
   ],
   "source": [
    "import dateandtime\n",
    "\n",
    "print(\"The current time is\", dateandtime.current_time())"
   ]
  },
  {
   "cell_type": "code",
   "execution_count": 3,
   "id": "d24e46f3-17b9-49f5-b4fc-44556274946b",
   "metadata": {},
   "outputs": [
    {
     "name": "stdout",
     "output_type": "stream",
     "text": [
      "The current date is Sep 15 2024\n"
     ]
    }
   ],
   "source": [
    "print(\"The current date is\", dateandtime.current_date())"
   ]
  },
  {
   "cell_type": "code",
   "execution_count": 4,
   "id": "51ed8202-f43f-4764-9b42-3c235391f101",
   "metadata": {},
   "outputs": [
    {
     "name": "stdout",
     "output_type": "stream",
     "text": [
      "The current time is 07:56 PM\n",
      "The current date is Sep 15 2024\n"
     ]
    }
   ],
   "source": [
    "from dateandtime import current_time, current_date #individual import a function from the module. easy to call the function later on\n",
    "\n",
    "print(\"The current time is\", current_time())\n",
    "print(\"The current date is\", current_date())\n"
   ]
  },
  {
   "cell_type": "code",
   "execution_count": null,
   "id": "142fca33-eb86-4dd4-8dad-bacf4c175c90",
   "metadata": {},
   "outputs": [],
   "source": [
    "# REMEBER:\n",
    "#notebook file will result and error, should create a .py file"
   ]
  }
 ],
 "metadata": {
  "kernelspec": {
   "display_name": "Python 3 (ipykernel)",
   "language": "python",
   "name": "python3"
  },
  "language_info": {
   "codemirror_mode": {
    "name": "ipython",
    "version": 3
   },
   "file_extension": ".py",
   "mimetype": "text/x-python",
   "name": "python",
   "nbconvert_exporter": "python",
   "pygments_lexer": "ipython3",
   "version": "3.11.4"
  }
 },
 "nbformat": 4,
 "nbformat_minor": 5
}
