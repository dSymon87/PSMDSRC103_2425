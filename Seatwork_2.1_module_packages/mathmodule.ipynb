{
 "cells": [
  {
   "cell_type": "code",
   "execution_count": 1,
   "id": "f8b42f7f-8963-4e8b-9a44-2ace2f90e498",
   "metadata": {
    "tags": []
   },
   "outputs": [],
   "source": [
    "import math\n",
    "\n",
    "def quadratic_formula(a, b, c):\n",
    "    if b**2 - (4*a*c) < 0:\n",
    "        x1 = (complex(-b, math.floor(math.sqrt(abs(b**2-(4*a*c))))))/2*a # . access the functions inside the math library\n",
    "        x2 = (complex(-b, -1*math.floor(math.sqrt(abs(b**2-(4*a*c))))))/2*a\n",
    "        return x1, x2\n",
    "    else:\n",
    "        x1 = (-b+math.sqrt(b**2 - (4*a*c)))/(2*a)\n",
    "        x2 = (-b-math.sqrt(b**2 - (4*a*c)))/(2*a)\n",
    "        return x1, x2\n"
   ]
  },
  {
   "cell_type": "code",
   "execution_count": 2,
   "id": "c17cd0c5-41e6-4333-af88-6d47690ba548",
   "metadata": {
    "tags": []
   },
   "outputs": [
    {
     "name": "stdout",
     "output_type": "stream",
     "text": [
      "((-1+1j), (-1-1j))\n"
     ]
    }
   ],
   "source": [
    "print(quadratic_formula(1,2,3))"
   ]
  },
  {
   "cell_type": "code",
   "execution_count": 5,
   "id": "5fa14c3b-4adf-4ba0-8a27-c01db524e76c",
   "metadata": {
    "tags": []
   },
   "outputs": [
    {
     "name": "stdout",
     "output_type": "stream",
     "text": [
      "((-2.5+20j), (-2.5-20j))\n"
     ]
    }
   ],
   "source": [
    "print(quadratic_formula(5,1,4))"
   ]
  }
 ],
 "metadata": {
  "kernelspec": {
   "display_name": "Python 3 (ipykernel)",
   "language": "python",
   "name": "python3"
  },
  "language_info": {
   "codemirror_mode": {
    "name": "ipython",
    "version": 3
   },
   "file_extension": ".py",
   "mimetype": "text/x-python",
   "name": "python",
   "nbconvert_exporter": "python",
   "pygments_lexer": "ipython3",
   "version": "3.11.4"
  }
 },
 "nbformat": 4,
 "nbformat_minor": 5
}
