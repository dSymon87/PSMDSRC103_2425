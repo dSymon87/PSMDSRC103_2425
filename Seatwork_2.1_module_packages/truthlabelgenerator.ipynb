{
 "cells": [
  {
   "cell_type": "code",
   "execution_count": 42,
   "id": "9325c7ce-1e48-4e1a-95a8-ac214c6b3dd3",
   "metadata": {
    "tags": []
   },
   "outputs": [],
   "source": [
    "def generate_truthtable(number_of_variables):  #this define the function required a value;\n",
    "    total_combinations = 2 ** number_of_variables  #if zero this is equal to 2\n",
    "    combinations_list = []  \n",
    "    for i in range(total_combinations):  \n",
    "        bin_equivalent = bin(i)[2:]  \n",
    "        while len(bin_equivalent) < number_of_variables:\n",
    "            bin_equivalent = \"0\"+bin_equivalent\n",
    "        combinations_list.append(tuple(int(val) for val in bin_equivalent))\n",
    "    return combinations_list"
   ]
  },
  {
   "cell_type": "code",
   "execution_count": 46,
   "id": "0997a24e-7138-4c99-863f-5bc901a467ce",
   "metadata": {
    "tags": []
   },
   "outputs": [
    {
     "name": "stdout",
     "output_type": "stream",
     "text": [
      "[(0,)]\n"
     ]
    }
   ],
   "source": [
    "print(generate_truthtable(0))"
   ]
  },
  {
   "cell_type": "code",
   "execution_count": 47,
   "id": "afd01f12-0992-44a7-8034-cf8a8895cad2",
   "metadata": {
    "tags": []
   },
   "outputs": [
    {
     "ename": "TypeError",
     "evalue": "generate_truthtable() missing 1 required positional argument: 'number_of_variables'",
     "output_type": "error",
     "traceback": [
      "\u001b[1;31m---------------------------------------------------------------------------\u001b[0m",
      "\u001b[1;31mTypeError\u001b[0m                                 Traceback (most recent call last)",
      "Cell \u001b[1;32mIn[47], line 1\u001b[0m\n\u001b[1;32m----> 1\u001b[0m \u001b[38;5;28mprint\u001b[39m(generate_truthtable())\n",
      "\u001b[1;31mTypeError\u001b[0m: generate_truthtable() missing 1 required positional argument: 'number_of_variables'"
     ]
    }
   ],
   "source": [
    "print(generate_truthtable())"
   ]
  },
  {
   "cell_type": "code",
   "execution_count": 48,
   "id": "acdb254a-dd5c-4736-8f45-29e2da4a8901",
   "metadata": {
    "tags": []
   },
   "outputs": [],
   "source": [
    "def generate_truthtable(number_of_variables=0):  \n",
    "    if number_of_variables == 0:\n",
    "        return \"You need to enter an integer\" #pass this message only, if variable 0 and continue, work around if variable is not defined\n",
    "    else:\n",
    "        total_combinations = 2 ** number_of_variables  \n",
    "        combinations_list = []  \n",
    "        for i in range(total_combinations):  \n",
    "            bin_equivalent = bin(i)[2:]  \n",
    "            while len(bin_equivalent) < number_of_variables:\n",
    "                bin_equivalent = \"0\"+bin_equivalent\n",
    "            combinations_list.append(tuple(int(val) for val in bin_equivalent))\n",
    "        return combinations_list"
   ]
  },
  {
   "cell_type": "code",
   "execution_count": 51,
   "id": "4c5395c6-e760-44ba-9a2a-d2389d37963a",
   "metadata": {
    "tags": []
   },
   "outputs": [
    {
     "name": "stdout",
     "output_type": "stream",
     "text": [
      "You need to enter an integer\n",
      "[(0,), (1,)]\n",
      "[(0, 0), (0, 1), (1, 0), (1, 1)]\n"
     ]
    }
   ],
   "source": [
    "print(generate_truthtable())\n",
    "print(generate_truthtable(1))\n",
    "print(generate_truthtable(2))"
   ]
  },
  {
   "cell_type": "code",
   "execution_count": 38,
   "id": "b8196385-3192-4d83-902f-44f676bd55a0",
   "metadata": {},
   "outputs": [],
   "source": [
    "def generate_truthtable(number_of_variables):  \n",
    "    total_combinations = 2 ** number_of_variables  \n",
    "    combinations_list = []  \n",
    "    for i in range(total_combinations):  \n",
    "        bin_equivalent = bin(i)[2:]  \n",
    "        while len(bin_equivalent) < number_of_variables:\n",
    "            bin_equivalent = \"0\"+bin_equivalent\n",
    "        combinations_list.append(tuple(int(val) for val in bin_equivalent))\n",
    "    return combinations_list\n",
    "\n",
    "\n",
    "\n",
    "def evaluate_propositional_logic(combinations_list):\n",
    "    \n",
    "    if combinations_list:\n",
    "        variables = len(combinations_list[0]) #count the length of the first tuple\n",
    "    else:\n",
    "        variables = 0\n",
    "    \n",
    "    # Main Program  \n",
    "    expression = input(\"Enter the propositional logic expression: \")\n",
    "\n",
    "    \"\"\" Note:  Only the letters A, B, and C are allowed to be used.  \n",
    "        A sample input would be: not(A and B) or (A and C). \n",
    "        All input must be small cases.\"\"\"  \n",
    "\n",
    "\n",
    "    if variables == 2:  \n",
    "        print(\"A B f\")  \n",
    "        for A,B in combinations_list:  \n",
    "            evaluated_expression = eval(expression)  \n",
    "            print(A, B, evaluated_expression)  # Already declare here the print functions\n",
    "\n",
    "        \n",
    "    elif variables == 3:\n",
    "        print(\"A B C f\")  \n",
    "        for A, B, C in combinations_list:  \n",
    "            evaluated_expression = eval(expression) \n",
    "            print(A, B, C, evaluated_expression)  # already declare inside the print statements\n",
    "  "
   ]
  },
  {
   "cell_type": "code",
   "execution_count": 39,
   "id": "c31ac6bb-f1bd-43f9-9779-b7a9422bee56",
   "metadata": {
    "tags": []
   },
   "outputs": [
    {
     "name": "stdin",
     "output_type": "stream",
     "text": [
      "Enter the propositional logic expression:  3\n"
     ]
    },
    {
     "name": "stdout",
     "output_type": "stream",
     "text": [
      "A B C f\n",
      "0 0 0 3\n",
      "0 0 1 3\n",
      "0 1 0 3\n",
      "0 1 1 3\n",
      "1 0 0 3\n",
      "1 0 1 3\n",
      "1 1 0 3\n",
      "1 1 1 3\n"
     ]
    }
   ],
   "source": [
    "evaluate_propositional_logic(generate_truthtable(3))"
   ]
  },
  {
   "cell_type": "code",
   "execution_count": null,
   "id": "81ba1e49-bfda-43df-a3da-e075b681d700",
   "metadata": {},
   "outputs": [],
   "source": []
  }
 ],
 "metadata": {
  "kernelspec": {
   "display_name": "Python 3 (ipykernel)",
   "language": "python",
   "name": "python3"
  },
  "language_info": {
   "codemirror_mode": {
    "name": "ipython",
    "version": 3
   },
   "file_extension": ".py",
   "mimetype": "text/x-python",
   "name": "python",
   "nbconvert_exporter": "python",
   "pygments_lexer": "ipython3",
   "version": "3.11.4"
  }
 },
 "nbformat": 4,
 "nbformat_minor": 5
}
